{
  "cells": [
    {
      "cell_type": "markdown",
      "metadata": {
        "id": "view-in-github",
        "colab_type": "text"
      },
      "source": [
        "<a href=\"https://colab.research.google.com/github/Muhammad-Ikhwan-Fathulloh/Data-Science-Online-Retail/blob/main/Muhammad_Ikhwan_Fathulloh_Rakamin_Trial_Class_Data_Science.ipynb\" target=\"_parent\"><img src=\"https://colab.research.google.com/assets/colab-badge.svg\" alt=\"Open In Colab\"/></a>"
      ]
    },
    {
      "cell_type": "markdown",
      "id": "ae0654e1",
      "metadata": {
        "id": "ae0654e1"
      },
      "source": [
        "### Homework Rakamin Trial Class - Mini Case\n",
        "\n",
        "###### Nama : Muhammad Ikhwan Fathulloh"
      ]
    },
    {
      "cell_type": "markdown",
      "id": "578645f2",
      "metadata": {
        "id": "578645f2"
      },
      "source": [
        "# Mengukur Performa Penjualan Ritel Online"
      ]
    },
    {
      "cell_type": "markdown",
      "id": "ebf52fe7",
      "metadata": {
        "id": "ebf52fe7"
      },
      "source": [
        "## Load Data"
      ]
    },
    {
      "cell_type": "code",
      "execution_count": null,
      "id": "6c4b0183",
      "metadata": {
        "id": "6c4b0183",
        "colab": {
          "base_uri": "https://localhost:8080/",
          "height": 424
        },
        "outputId": "1ca944f6-ecec-4cb0-8fbb-25d1899c1c20"
      },
      "outputs": [
        {
          "output_type": "execute_result",
          "data": {
            "text/plain": [
              "        Invoice StockCode                          Description  Quantity  \\\n",
              "0        489434     85048  15CM CHRISTMAS GLASS BALL 20 LIGHTS        12   \n",
              "1        489434    79323P                   PINK CHERRY LIGHTS        12   \n",
              "2        489434    79323W                  WHITE CHERRY LIGHTS        12   \n",
              "3        489434     22041         RECORD FRAME 7\" SINGLE SIZE         48   \n",
              "4        489434     21232       STRAWBERRY CERAMIC TRINKET BOX        24   \n",
              "...         ...       ...                                  ...       ...   \n",
              "1067366  581587     22899         CHILDREN'S APRON DOLLY GIRL          6   \n",
              "1067367  581587     23254        CHILDRENS CUTLERY DOLLY GIRL          4   \n",
              "1067368  581587     23255      CHILDRENS CUTLERY CIRCUS PARADE         4   \n",
              "1067369  581587     22138        BAKING SET 9 PIECE RETROSPOT          3   \n",
              "1067370  581587      POST                              POSTAGE         1   \n",
              "\n",
              "                 InvoiceDate  Price  Customer ID         Country  \n",
              "0        2009-12-01 07:45:00   6.95      13085.0  United Kingdom  \n",
              "1        2009-12-01 07:45:00   6.75      13085.0  United Kingdom  \n",
              "2        2009-12-01 07:45:00   6.75      13085.0  United Kingdom  \n",
              "3        2009-12-01 07:45:00   2.10      13085.0  United Kingdom  \n",
              "4        2009-12-01 07:45:00   1.25      13085.0  United Kingdom  \n",
              "...                      ...    ...          ...             ...  \n",
              "1067366  2011-12-09 12:50:00   2.10      12680.0          France  \n",
              "1067367  2011-12-09 12:50:00   4.15      12680.0          France  \n",
              "1067368  2011-12-09 12:50:00   4.15      12680.0          France  \n",
              "1067369  2011-12-09 12:50:00   4.95      12680.0          France  \n",
              "1067370  2011-12-09 12:50:00  18.00      12680.0          France  \n",
              "\n",
              "[1067371 rows x 8 columns]"
            ],
            "text/html": [
              "\n",
              "  <div id=\"df-43c0888f-3026-4705-ba4f-8a67883b50db\">\n",
              "    <div class=\"colab-df-container\">\n",
              "      <div>\n",
              "<style scoped>\n",
              "    .dataframe tbody tr th:only-of-type {\n",
              "        vertical-align: middle;\n",
              "    }\n",
              "\n",
              "    .dataframe tbody tr th {\n",
              "        vertical-align: top;\n",
              "    }\n",
              "\n",
              "    .dataframe thead th {\n",
              "        text-align: right;\n",
              "    }\n",
              "</style>\n",
              "<table border=\"1\" class=\"dataframe\">\n",
              "  <thead>\n",
              "    <tr style=\"text-align: right;\">\n",
              "      <th></th>\n",
              "      <th>Invoice</th>\n",
              "      <th>StockCode</th>\n",
              "      <th>Description</th>\n",
              "      <th>Quantity</th>\n",
              "      <th>InvoiceDate</th>\n",
              "      <th>Price</th>\n",
              "      <th>Customer ID</th>\n",
              "      <th>Country</th>\n",
              "    </tr>\n",
              "  </thead>\n",
              "  <tbody>\n",
              "    <tr>\n",
              "      <th>0</th>\n",
              "      <td>489434</td>\n",
              "      <td>85048</td>\n",
              "      <td>15CM CHRISTMAS GLASS BALL 20 LIGHTS</td>\n",
              "      <td>12</td>\n",
              "      <td>2009-12-01 07:45:00</td>\n",
              "      <td>6.95</td>\n",
              "      <td>13085.0</td>\n",
              "      <td>United Kingdom</td>\n",
              "    </tr>\n",
              "    <tr>\n",
              "      <th>1</th>\n",
              "      <td>489434</td>\n",
              "      <td>79323P</td>\n",
              "      <td>PINK CHERRY LIGHTS</td>\n",
              "      <td>12</td>\n",
              "      <td>2009-12-01 07:45:00</td>\n",
              "      <td>6.75</td>\n",
              "      <td>13085.0</td>\n",
              "      <td>United Kingdom</td>\n",
              "    </tr>\n",
              "    <tr>\n",
              "      <th>2</th>\n",
              "      <td>489434</td>\n",
              "      <td>79323W</td>\n",
              "      <td>WHITE CHERRY LIGHTS</td>\n",
              "      <td>12</td>\n",
              "      <td>2009-12-01 07:45:00</td>\n",
              "      <td>6.75</td>\n",
              "      <td>13085.0</td>\n",
              "      <td>United Kingdom</td>\n",
              "    </tr>\n",
              "    <tr>\n",
              "      <th>3</th>\n",
              "      <td>489434</td>\n",
              "      <td>22041</td>\n",
              "      <td>RECORD FRAME 7\" SINGLE SIZE</td>\n",
              "      <td>48</td>\n",
              "      <td>2009-12-01 07:45:00</td>\n",
              "      <td>2.10</td>\n",
              "      <td>13085.0</td>\n",
              "      <td>United Kingdom</td>\n",
              "    </tr>\n",
              "    <tr>\n",
              "      <th>4</th>\n",
              "      <td>489434</td>\n",
              "      <td>21232</td>\n",
              "      <td>STRAWBERRY CERAMIC TRINKET BOX</td>\n",
              "      <td>24</td>\n",
              "      <td>2009-12-01 07:45:00</td>\n",
              "      <td>1.25</td>\n",
              "      <td>13085.0</td>\n",
              "      <td>United Kingdom</td>\n",
              "    </tr>\n",
              "    <tr>\n",
              "      <th>...</th>\n",
              "      <td>...</td>\n",
              "      <td>...</td>\n",
              "      <td>...</td>\n",
              "      <td>...</td>\n",
              "      <td>...</td>\n",
              "      <td>...</td>\n",
              "      <td>...</td>\n",
              "      <td>...</td>\n",
              "    </tr>\n",
              "    <tr>\n",
              "      <th>1067366</th>\n",
              "      <td>581587</td>\n",
              "      <td>22899</td>\n",
              "      <td>CHILDREN'S APRON DOLLY GIRL</td>\n",
              "      <td>6</td>\n",
              "      <td>2011-12-09 12:50:00</td>\n",
              "      <td>2.10</td>\n",
              "      <td>12680.0</td>\n",
              "      <td>France</td>\n",
              "    </tr>\n",
              "    <tr>\n",
              "      <th>1067367</th>\n",
              "      <td>581587</td>\n",
              "      <td>23254</td>\n",
              "      <td>CHILDRENS CUTLERY DOLLY GIRL</td>\n",
              "      <td>4</td>\n",
              "      <td>2011-12-09 12:50:00</td>\n",
              "      <td>4.15</td>\n",
              "      <td>12680.0</td>\n",
              "      <td>France</td>\n",
              "    </tr>\n",
              "    <tr>\n",
              "      <th>1067368</th>\n",
              "      <td>581587</td>\n",
              "      <td>23255</td>\n",
              "      <td>CHILDRENS CUTLERY CIRCUS PARADE</td>\n",
              "      <td>4</td>\n",
              "      <td>2011-12-09 12:50:00</td>\n",
              "      <td>4.15</td>\n",
              "      <td>12680.0</td>\n",
              "      <td>France</td>\n",
              "    </tr>\n",
              "    <tr>\n",
              "      <th>1067369</th>\n",
              "      <td>581587</td>\n",
              "      <td>22138</td>\n",
              "      <td>BAKING SET 9 PIECE RETROSPOT</td>\n",
              "      <td>3</td>\n",
              "      <td>2011-12-09 12:50:00</td>\n",
              "      <td>4.95</td>\n",
              "      <td>12680.0</td>\n",
              "      <td>France</td>\n",
              "    </tr>\n",
              "    <tr>\n",
              "      <th>1067370</th>\n",
              "      <td>581587</td>\n",
              "      <td>POST</td>\n",
              "      <td>POSTAGE</td>\n",
              "      <td>1</td>\n",
              "      <td>2011-12-09 12:50:00</td>\n",
              "      <td>18.00</td>\n",
              "      <td>12680.0</td>\n",
              "      <td>France</td>\n",
              "    </tr>\n",
              "  </tbody>\n",
              "</table>\n",
              "<p>1067371 rows × 8 columns</p>\n",
              "</div>\n",
              "      <button class=\"colab-df-convert\" onclick=\"convertToInteractive('df-43c0888f-3026-4705-ba4f-8a67883b50db')\"\n",
              "              title=\"Convert this dataframe to an interactive table.\"\n",
              "              style=\"display:none;\">\n",
              "        \n",
              "  <svg xmlns=\"http://www.w3.org/2000/svg\" height=\"24px\"viewBox=\"0 0 24 24\"\n",
              "       width=\"24px\">\n",
              "    <path d=\"M0 0h24v24H0V0z\" fill=\"none\"/>\n",
              "    <path d=\"M18.56 5.44l.94 2.06.94-2.06 2.06-.94-2.06-.94-.94-2.06-.94 2.06-2.06.94zm-11 1L8.5 8.5l.94-2.06 2.06-.94-2.06-.94L8.5 2.5l-.94 2.06-2.06.94zm10 10l.94 2.06.94-2.06 2.06-.94-2.06-.94-.94-2.06-.94 2.06-2.06.94z\"/><path d=\"M17.41 7.96l-1.37-1.37c-.4-.4-.92-.59-1.43-.59-.52 0-1.04.2-1.43.59L10.3 9.45l-7.72 7.72c-.78.78-.78 2.05 0 2.83L4 21.41c.39.39.9.59 1.41.59.51 0 1.02-.2 1.41-.59l7.78-7.78 2.81-2.81c.8-.78.8-2.07 0-2.86zM5.41 20L4 18.59l7.72-7.72 1.47 1.35L5.41 20z\"/>\n",
              "  </svg>\n",
              "      </button>\n",
              "      \n",
              "  <style>\n",
              "    .colab-df-container {\n",
              "      display:flex;\n",
              "      flex-wrap:wrap;\n",
              "      gap: 12px;\n",
              "    }\n",
              "\n",
              "    .colab-df-convert {\n",
              "      background-color: #E8F0FE;\n",
              "      border: none;\n",
              "      border-radius: 50%;\n",
              "      cursor: pointer;\n",
              "      display: none;\n",
              "      fill: #1967D2;\n",
              "      height: 32px;\n",
              "      padding: 0 0 0 0;\n",
              "      width: 32px;\n",
              "    }\n",
              "\n",
              "    .colab-df-convert:hover {\n",
              "      background-color: #E2EBFA;\n",
              "      box-shadow: 0px 1px 2px rgba(60, 64, 67, 0.3), 0px 1px 3px 1px rgba(60, 64, 67, 0.15);\n",
              "      fill: #174EA6;\n",
              "    }\n",
              "\n",
              "    [theme=dark] .colab-df-convert {\n",
              "      background-color: #3B4455;\n",
              "      fill: #D2E3FC;\n",
              "    }\n",
              "\n",
              "    [theme=dark] .colab-df-convert:hover {\n",
              "      background-color: #434B5C;\n",
              "      box-shadow: 0px 1px 3px 1px rgba(0, 0, 0, 0.15);\n",
              "      filter: drop-shadow(0px 1px 2px rgba(0, 0, 0, 0.3));\n",
              "      fill: #FFFFFF;\n",
              "    }\n",
              "  </style>\n",
              "\n",
              "      <script>\n",
              "        const buttonEl =\n",
              "          document.querySelector('#df-43c0888f-3026-4705-ba4f-8a67883b50db button.colab-df-convert');\n",
              "        buttonEl.style.display =\n",
              "          google.colab.kernel.accessAllowed ? 'block' : 'none';\n",
              "\n",
              "        async function convertToInteractive(key) {\n",
              "          const element = document.querySelector('#df-43c0888f-3026-4705-ba4f-8a67883b50db');\n",
              "          const dataTable =\n",
              "            await google.colab.kernel.invokeFunction('convertToInteractive',\n",
              "                                                     [key], {});\n",
              "          if (!dataTable) return;\n",
              "\n",
              "          const docLinkHtml = 'Like what you see? Visit the ' +\n",
              "            '<a target=\"_blank\" href=https://colab.research.google.com/notebooks/data_table.ipynb>data table notebook</a>'\n",
              "            + ' to learn more about interactive tables.';\n",
              "          element.innerHTML = '';\n",
              "          dataTable['output_type'] = 'display_data';\n",
              "          await google.colab.output.renderOutput(dataTable, element);\n",
              "          const docLink = document.createElement('div');\n",
              "          docLink.innerHTML = docLinkHtml;\n",
              "          element.appendChild(docLink);\n",
              "        }\n",
              "      </script>\n",
              "    </div>\n",
              "  </div>\n",
              "  "
            ]
          },
          "metadata": {},
          "execution_count": 21
        }
      ],
      "source": [
        "# Import Libraries\n",
        "\n",
        "import pandas as pd\n",
        "import numpy as np\n",
        "import matplotlib.pyplot as plt\n",
        "import seaborn as sns\n",
        "\n",
        "# Setting tema seaborn\n",
        "\n",
        "sns.set_theme(style=\"darkgrid\")\n",
        "\n",
        "file  = 'online_retail_II.csv'\n",
        "ritel = pd.read_csv(file)\n",
        "\n",
        "ritel"
      ]
    },
    {
      "cell_type": "code",
      "source": [
        "# Detail Transpose Dataset\n",
        "\n",
        "ritel.describe(include='all').transpose()"
      ],
      "metadata": {
        "colab": {
          "base_uri": "https://localhost:8080/",
          "height": 379
        },
        "id": "0hkaDklG7zoE",
        "outputId": "f6fa2a1a-6e61-4232-d99a-55cad336becb"
      },
      "id": "0hkaDklG7zoE",
      "execution_count": null,
      "outputs": [
        {
          "output_type": "execute_result",
          "data": {
            "text/plain": [
              "                 count unique                                 top    freq  \\\n",
              "Invoice        1067371  53628                              537434    1350   \n",
              "StockCode      1067371   5305                              85123A    5829   \n",
              "Description    1062989   5698  WHITE HANGING HEART T-LIGHT HOLDER    5918   \n",
              "Quantity     1067371.0    NaN                                 NaN     NaN   \n",
              "InvoiceDate    1067371  47635                 2010-12-06 16:57:00    1350   \n",
              "Price        1067371.0    NaN                                 NaN     NaN   \n",
              "Customer ID   824364.0    NaN                                 NaN     NaN   \n",
              "Country        1067371     43                      United Kingdom  981330   \n",
              "\n",
              "                     mean         std       min      25%      50%      75%  \\\n",
              "Invoice               NaN         NaN       NaN      NaN      NaN      NaN   \n",
              "StockCode             NaN         NaN       NaN      NaN      NaN      NaN   \n",
              "Description           NaN         NaN       NaN      NaN      NaN      NaN   \n",
              "Quantity         9.938898  172.705794  -80995.0      1.0      3.0     10.0   \n",
              "InvoiceDate           NaN         NaN       NaN      NaN      NaN      NaN   \n",
              "Price            4.649388  123.553059 -53594.36     1.25      2.1     4.15   \n",
              "Customer ID  15324.638504  1697.46445   12346.0  13975.0  15255.0  16797.0   \n",
              "Country               NaN         NaN       NaN      NaN      NaN      NaN   \n",
              "\n",
              "                 max  \n",
              "Invoice          NaN  \n",
              "StockCode        NaN  \n",
              "Description      NaN  \n",
              "Quantity     80995.0  \n",
              "InvoiceDate      NaN  \n",
              "Price        38970.0  \n",
              "Customer ID  18287.0  \n",
              "Country          NaN  "
            ],
            "text/html": [
              "\n",
              "  <div id=\"df-87b439df-a95e-4f13-b01b-01db9b99aa51\">\n",
              "    <div class=\"colab-df-container\">\n",
              "      <div>\n",
              "<style scoped>\n",
              "    .dataframe tbody tr th:only-of-type {\n",
              "        vertical-align: middle;\n",
              "    }\n",
              "\n",
              "    .dataframe tbody tr th {\n",
              "        vertical-align: top;\n",
              "    }\n",
              "\n",
              "    .dataframe thead th {\n",
              "        text-align: right;\n",
              "    }\n",
              "</style>\n",
              "<table border=\"1\" class=\"dataframe\">\n",
              "  <thead>\n",
              "    <tr style=\"text-align: right;\">\n",
              "      <th></th>\n",
              "      <th>count</th>\n",
              "      <th>unique</th>\n",
              "      <th>top</th>\n",
              "      <th>freq</th>\n",
              "      <th>mean</th>\n",
              "      <th>std</th>\n",
              "      <th>min</th>\n",
              "      <th>25%</th>\n",
              "      <th>50%</th>\n",
              "      <th>75%</th>\n",
              "      <th>max</th>\n",
              "    </tr>\n",
              "  </thead>\n",
              "  <tbody>\n",
              "    <tr>\n",
              "      <th>Invoice</th>\n",
              "      <td>1067371</td>\n",
              "      <td>53628</td>\n",
              "      <td>537434</td>\n",
              "      <td>1350</td>\n",
              "      <td>NaN</td>\n",
              "      <td>NaN</td>\n",
              "      <td>NaN</td>\n",
              "      <td>NaN</td>\n",
              "      <td>NaN</td>\n",
              "      <td>NaN</td>\n",
              "      <td>NaN</td>\n",
              "    </tr>\n",
              "    <tr>\n",
              "      <th>StockCode</th>\n",
              "      <td>1067371</td>\n",
              "      <td>5305</td>\n",
              "      <td>85123A</td>\n",
              "      <td>5829</td>\n",
              "      <td>NaN</td>\n",
              "      <td>NaN</td>\n",
              "      <td>NaN</td>\n",
              "      <td>NaN</td>\n",
              "      <td>NaN</td>\n",
              "      <td>NaN</td>\n",
              "      <td>NaN</td>\n",
              "    </tr>\n",
              "    <tr>\n",
              "      <th>Description</th>\n",
              "      <td>1062989</td>\n",
              "      <td>5698</td>\n",
              "      <td>WHITE HANGING HEART T-LIGHT HOLDER</td>\n",
              "      <td>5918</td>\n",
              "      <td>NaN</td>\n",
              "      <td>NaN</td>\n",
              "      <td>NaN</td>\n",
              "      <td>NaN</td>\n",
              "      <td>NaN</td>\n",
              "      <td>NaN</td>\n",
              "      <td>NaN</td>\n",
              "    </tr>\n",
              "    <tr>\n",
              "      <th>Quantity</th>\n",
              "      <td>1067371.0</td>\n",
              "      <td>NaN</td>\n",
              "      <td>NaN</td>\n",
              "      <td>NaN</td>\n",
              "      <td>9.938898</td>\n",
              "      <td>172.705794</td>\n",
              "      <td>-80995.0</td>\n",
              "      <td>1.0</td>\n",
              "      <td>3.0</td>\n",
              "      <td>10.0</td>\n",
              "      <td>80995.0</td>\n",
              "    </tr>\n",
              "    <tr>\n",
              "      <th>InvoiceDate</th>\n",
              "      <td>1067371</td>\n",
              "      <td>47635</td>\n",
              "      <td>2010-12-06 16:57:00</td>\n",
              "      <td>1350</td>\n",
              "      <td>NaN</td>\n",
              "      <td>NaN</td>\n",
              "      <td>NaN</td>\n",
              "      <td>NaN</td>\n",
              "      <td>NaN</td>\n",
              "      <td>NaN</td>\n",
              "      <td>NaN</td>\n",
              "    </tr>\n",
              "    <tr>\n",
              "      <th>Price</th>\n",
              "      <td>1067371.0</td>\n",
              "      <td>NaN</td>\n",
              "      <td>NaN</td>\n",
              "      <td>NaN</td>\n",
              "      <td>4.649388</td>\n",
              "      <td>123.553059</td>\n",
              "      <td>-53594.36</td>\n",
              "      <td>1.25</td>\n",
              "      <td>2.1</td>\n",
              "      <td>4.15</td>\n",
              "      <td>38970.0</td>\n",
              "    </tr>\n",
              "    <tr>\n",
              "      <th>Customer ID</th>\n",
              "      <td>824364.0</td>\n",
              "      <td>NaN</td>\n",
              "      <td>NaN</td>\n",
              "      <td>NaN</td>\n",
              "      <td>15324.638504</td>\n",
              "      <td>1697.46445</td>\n",
              "      <td>12346.0</td>\n",
              "      <td>13975.0</td>\n",
              "      <td>15255.0</td>\n",
              "      <td>16797.0</td>\n",
              "      <td>18287.0</td>\n",
              "    </tr>\n",
              "    <tr>\n",
              "      <th>Country</th>\n",
              "      <td>1067371</td>\n",
              "      <td>43</td>\n",
              "      <td>United Kingdom</td>\n",
              "      <td>981330</td>\n",
              "      <td>NaN</td>\n",
              "      <td>NaN</td>\n",
              "      <td>NaN</td>\n",
              "      <td>NaN</td>\n",
              "      <td>NaN</td>\n",
              "      <td>NaN</td>\n",
              "      <td>NaN</td>\n",
              "    </tr>\n",
              "  </tbody>\n",
              "</table>\n",
              "</div>\n",
              "      <button class=\"colab-df-convert\" onclick=\"convertToInteractive('df-87b439df-a95e-4f13-b01b-01db9b99aa51')\"\n",
              "              title=\"Convert this dataframe to an interactive table.\"\n",
              "              style=\"display:none;\">\n",
              "        \n",
              "  <svg xmlns=\"http://www.w3.org/2000/svg\" height=\"24px\"viewBox=\"0 0 24 24\"\n",
              "       width=\"24px\">\n",
              "    <path d=\"M0 0h24v24H0V0z\" fill=\"none\"/>\n",
              "    <path d=\"M18.56 5.44l.94 2.06.94-2.06 2.06-.94-2.06-.94-.94-2.06-.94 2.06-2.06.94zm-11 1L8.5 8.5l.94-2.06 2.06-.94-2.06-.94L8.5 2.5l-.94 2.06-2.06.94zm10 10l.94 2.06.94-2.06 2.06-.94-2.06-.94-.94-2.06-.94 2.06-2.06.94z\"/><path d=\"M17.41 7.96l-1.37-1.37c-.4-.4-.92-.59-1.43-.59-.52 0-1.04.2-1.43.59L10.3 9.45l-7.72 7.72c-.78.78-.78 2.05 0 2.83L4 21.41c.39.39.9.59 1.41.59.51 0 1.02-.2 1.41-.59l7.78-7.78 2.81-2.81c.8-.78.8-2.07 0-2.86zM5.41 20L4 18.59l7.72-7.72 1.47 1.35L5.41 20z\"/>\n",
              "  </svg>\n",
              "      </button>\n",
              "      \n",
              "  <style>\n",
              "    .colab-df-container {\n",
              "      display:flex;\n",
              "      flex-wrap:wrap;\n",
              "      gap: 12px;\n",
              "    }\n",
              "\n",
              "    .colab-df-convert {\n",
              "      background-color: #E8F0FE;\n",
              "      border: none;\n",
              "      border-radius: 50%;\n",
              "      cursor: pointer;\n",
              "      display: none;\n",
              "      fill: #1967D2;\n",
              "      height: 32px;\n",
              "      padding: 0 0 0 0;\n",
              "      width: 32px;\n",
              "    }\n",
              "\n",
              "    .colab-df-convert:hover {\n",
              "      background-color: #E2EBFA;\n",
              "      box-shadow: 0px 1px 2px rgba(60, 64, 67, 0.3), 0px 1px 3px 1px rgba(60, 64, 67, 0.15);\n",
              "      fill: #174EA6;\n",
              "    }\n",
              "\n",
              "    [theme=dark] .colab-df-convert {\n",
              "      background-color: #3B4455;\n",
              "      fill: #D2E3FC;\n",
              "    }\n",
              "\n",
              "    [theme=dark] .colab-df-convert:hover {\n",
              "      background-color: #434B5C;\n",
              "      box-shadow: 0px 1px 3px 1px rgba(0, 0, 0, 0.15);\n",
              "      filter: drop-shadow(0px 1px 2px rgba(0, 0, 0, 0.3));\n",
              "      fill: #FFFFFF;\n",
              "    }\n",
              "  </style>\n",
              "\n",
              "      <script>\n",
              "        const buttonEl =\n",
              "          document.querySelector('#df-87b439df-a95e-4f13-b01b-01db9b99aa51 button.colab-df-convert');\n",
              "        buttonEl.style.display =\n",
              "          google.colab.kernel.accessAllowed ? 'block' : 'none';\n",
              "\n",
              "        async function convertToInteractive(key) {\n",
              "          const element = document.querySelector('#df-87b439df-a95e-4f13-b01b-01db9b99aa51');\n",
              "          const dataTable =\n",
              "            await google.colab.kernel.invokeFunction('convertToInteractive',\n",
              "                                                     [key], {});\n",
              "          if (!dataTable) return;\n",
              "\n",
              "          const docLinkHtml = 'Like what you see? Visit the ' +\n",
              "            '<a target=\"_blank\" href=https://colab.research.google.com/notebooks/data_table.ipynb>data table notebook</a>'\n",
              "            + ' to learn more about interactive tables.';\n",
              "          element.innerHTML = '';\n",
              "          dataTable['output_type'] = 'display_data';\n",
              "          await google.colab.output.renderOutput(dataTable, element);\n",
              "          const docLink = document.createElement('div');\n",
              "          docLink.innerHTML = docLinkHtml;\n",
              "          element.appendChild(docLink);\n",
              "        }\n",
              "      </script>\n",
              "    </div>\n",
              "  </div>\n",
              "  "
            ]
          },
          "metadata": {},
          "execution_count": 22
        }
      ]
    },
    {
      "cell_type": "code",
      "source": [
        "# Cek data null\n",
        "\n",
        "ritel.isnull().sum()"
      ],
      "metadata": {
        "colab": {
          "base_uri": "https://localhost:8080/"
        },
        "id": "7MVcjAUD78UE",
        "outputId": "39f162f1-c8ff-45ef-a98a-cd2b6c3795d3"
      },
      "id": "7MVcjAUD78UE",
      "execution_count": null,
      "outputs": [
        {
          "output_type": "execute_result",
          "data": {
            "text/plain": [
              "Invoice             0\n",
              "StockCode           0\n",
              "Description      4382\n",
              "Quantity            0\n",
              "InvoiceDate         0\n",
              "Price               0\n",
              "Customer ID    243007\n",
              "Country             0\n",
              "dtype: int64"
            ]
          },
          "metadata": {},
          "execution_count": 23
        }
      ]
    },
    {
      "cell_type": "code",
      "source": [
        "# Cek tipe data\n",
        "\n",
        "ritel.dtypes"
      ],
      "metadata": {
        "colab": {
          "base_uri": "https://localhost:8080/"
        },
        "id": "tMVv2mp28B0b",
        "outputId": "e6b6e25b-d798-45f9-9820-85cd0a4796dd"
      },
      "id": "tMVv2mp28B0b",
      "execution_count": null,
      "outputs": [
        {
          "output_type": "execute_result",
          "data": {
            "text/plain": [
              "Invoice         object\n",
              "StockCode       object\n",
              "Description     object\n",
              "Quantity         int64\n",
              "InvoiceDate     object\n",
              "Price          float64\n",
              "Customer ID    float64\n",
              "Country         object\n",
              "dtype: object"
            ]
          },
          "metadata": {},
          "execution_count": 24
        }
      ]
    },
    {
      "cell_type": "markdown",
      "id": "794e2063",
      "metadata": {
        "id": "794e2063"
      },
      "source": [
        "## Section 1"
      ]
    },
    {
      "cell_type": "markdown",
      "id": "0ead195f",
      "metadata": {
        "id": "0ead195f"
      },
      "source": [
        "### Create New Feature: Year"
      ]
    },
    {
      "cell_type": "code",
      "execution_count": null,
      "id": "5a1281e7",
      "metadata": {
        "id": "5a1281e7"
      },
      "outputs": [],
      "source": [
        "# Mengubah tipe data kolom \"InvoiceDate\" menjadi tipe ‘datetime’\n",
        "\n",
        "ritel[\"InvoiceDate\"] = pd.to_datetime(ritel['InvoiceDate'])"
      ]
    },
    {
      "cell_type": "code",
      "source": [
        "# Menambah kolom baru dengan nama \"Year\" yang berisi nilai tahun dari \"InvoiceDate\"\n",
        "\n",
        "ritel[\"Year\"] = pd.DatetimeIndex(ritel['InvoiceDate']).year"
      ],
      "metadata": {
        "id": "dLvY7Hqx6hPN"
      },
      "id": "dLvY7Hqx6hPN",
      "execution_count": null,
      "outputs": []
    },
    {
      "cell_type": "markdown",
      "id": "9a9f5438",
      "metadata": {
        "id": "9a9f5438"
      },
      "source": [
        "### Filtering Data"
      ]
    },
    {
      "cell_type": "code",
      "execution_count": null,
      "id": "547a9e99",
      "metadata": {
        "id": "547a9e99"
      },
      "outputs": [],
      "source": [
        "# Memfilter data berdasarkan \"Quantity\" dan \"Invoice\"\n",
        "\n",
        "sales = ritel[(ritel[\"Quantity\"] > 0) & (ritel.Invoice.str.contains(\"C\") == False)].copy()"
      ]
    },
    {
      "cell_type": "markdown",
      "id": "0bef109f",
      "metadata": {
        "id": "0bef109f"
      },
      "source": [
        "### Create New Feature: Revenue"
      ]
    },
    {
      "cell_type": "code",
      "execution_count": null,
      "id": "9a670915",
      "metadata": {
        "id": "9a670915"
      },
      "outputs": [],
      "source": [
        "# Menambah kolom baru dengan nama \"Revenue\" yang berisi nilai tahun dari \"InvoiceDate\"\n",
        "\n",
        "sales[\"Revenue\"] = sales[\"Quantity\"] * sales[\"Price\"]"
      ]
    },
    {
      "cell_type": "markdown",
      "id": "c955f053",
      "metadata": {
        "id": "c955f053"
      },
      "source": [
        "### Average of Revenue per Year"
      ]
    },
    {
      "cell_type": "code",
      "execution_count": null,
      "id": "4a2e5ed4",
      "metadata": {
        "id": "4a2e5ed4"
      },
      "outputs": [],
      "source": [
        "# Menghitung \"Revenue\" per tahun\n",
        "\n",
        "revenue_every_year = sales.groupby(\"Year\")[\"Revenue\"].count()\n",
        "revenue_per_year = revenue_every_year.sum()/len(revenue_every_year)"
      ]
    },
    {
      "cell_type": "markdown",
      "id": "8823e17c",
      "metadata": {
        "id": "8823e17c"
      },
      "source": [
        "### Interpretation"
      ]
    },
    {
      "cell_type": "code",
      "source": [
        "# Visualisasi \"Revenue\" tiap tahun\n",
        "\n",
        "print(\"Jumlah 'Revenue' tiap tahun: \\n\", revenue_every_year)\n",
        "print(\"Rata-rata Revenue dalam 3 tahun (2009-2011) adalah\",revenue_per_year)\n",
        "revenuex = sns.countplot(data=sales, x=\"Year\", palette=\"Set3\")"
      ],
      "metadata": {
        "colab": {
          "base_uri": "https://localhost:8080/",
          "height": 406
        },
        "id": "mIQ62u_86xX0",
        "outputId": "7bbb90db-2542-42ac-d00e-f14748e733f7"
      },
      "id": "mIQ62u_86xX0",
      "execution_count": null,
      "outputs": [
        {
          "output_type": "stream",
          "name": "stdout",
          "text": [
            "Jumlah 'Revenue' tiap tahun: \n",
            " Year\n",
            "2009     44123\n",
            "2010    510694\n",
            "2011    489603\n",
            "Name: Revenue, dtype: int64\n",
            "Rata-rata Revenue dalam 3 tahun (2009-2011) adalah 348140.0\n"
          ]
        },
        {
          "output_type": "display_data",
          "data": {
            "text/plain": [
              "<Figure size 432x288 with 1 Axes>"
            ],
            "image/png": "[encoded data removed]"
          },
          "metadata": {}
        }
      ]
    },
    {
      "cell_type": "markdown",
      "id": "3739a278",
      "metadata": {
        "id": "3739a278"
      },
      "source": [
        "Berdasarkan grafik di atas, dapat dilihat bahwa revenue pada tahun 2009 ke tahun 2010 meningkat pesat dan pada tahun 2010 ke tahun 2011 sedikit menurun dan rata-rata revenue dalam 3 tahun tersebut adalah 348140."
      ]
    },
    {
      "cell_type": "markdown",
      "id": "4ff5f5d4",
      "metadata": {
        "id": "4ff5f5d4"
      },
      "source": [
        "## Section 2"
      ]
    },
    {
      "cell_type": "markdown",
      "id": "8dadd5ef",
      "metadata": {
        "id": "8dadd5ef"
      },
      "source": [
        "### Filtering Data "
      ]
    },
    {
      "cell_type": "markdown",
      "id": "2c053fd2",
      "metadata": {
        "id": "2c053fd2"
      },
      "source": [
        "#### Customers who finished their purchases"
      ]
    },
    {
      "cell_type": "code",
      "execution_count": null,
      "id": "d992a159",
      "metadata": {
        "id": "d992a159"
      },
      "outputs": [],
      "source": [
        "finished = sales[sales[\"Customer ID\"].notnull()]"
      ]
    },
    {
      "cell_type": "markdown",
      "id": "136b9900",
      "metadata": {
        "id": "136b9900"
      },
      "source": [
        "#### Customers who canceled their purchases"
      ]
    },
    {
      "cell_type": "code",
      "execution_count": null,
      "id": "98af92ed",
      "metadata": {
        "id": "98af92ed"
      },
      "outputs": [],
      "source": [
        "cancel = ritel[ritel[\"Invoice\"].str.contains(\"C\")]"
      ]
    },
    {
      "cell_type": "markdown",
      "id": "d3fbb31a",
      "metadata": {
        "id": "d3fbb31a"
      },
      "source": [
        "### Number of Finished and Canceled Transactions Each Year"
      ]
    },
    {
      "cell_type": "code",
      "execution_count": null,
      "id": "04158c66",
      "metadata": {
        "id": "04158c66",
        "colab": {
          "base_uri": "https://localhost:8080/",
          "height": 389
        },
        "outputId": "c12b2781-7e27-4149-991d-db9444fcebbd"
      },
      "outputs": [
        {
          "output_type": "stream",
          "name": "stdout",
          "text": [
            "Jumlah transaksi berhasil tiap tahun: \n",
            " Year\n",
            "2009     30761\n",
            "2010    403094\n",
            "2011    371765\n",
            "Name: Invoice, dtype: int64\n"
          ]
        },
        {
          "output_type": "display_data",
          "data": {
            "text/plain": [
              "<Figure size 432x288 with 1 Axes>"
            ],
            "image/png": "[encoded data removed]"
          },
          "metadata": {}
        }
      ],
      "source": [
        "# Menghitung transaksi berhasil per tahun\n",
        "\n",
        "success_per_year = finished.groupby(\"Year\")[\"Invoice\"].count()\n",
        "print(\"Jumlah transaksi berhasil tiap tahun: \\n\", success_per_year)\n",
        "susceesplot = sns.countplot(data=finished, x=\"Year\", palette=\"Set3\")"
      ]
    },
    {
      "cell_type": "code",
      "source": [
        "# Menghitung transaksi gagal per tahun\n",
        "\n",
        "failed_per_year = cancel.groupby(\"Year\")[\"Invoice\"].count()\n",
        "print(\"Jumlah transaksi gagal tiap tahun: \\n\", failed_per_year)\n",
        "cancelledplot = sns.countplot(data=cancel, x=\"Year\", palette=\"Set3\")"
      ],
      "metadata": {
        "colab": {
          "base_uri": "https://localhost:8080/",
          "height": 389
        },
        "id": "hKb51lkx7C-K",
        "outputId": "b514ebf6-e0f6-41c5-b3d2-e5a45e55a644"
      },
      "id": "hKb51lkx7C-K",
      "execution_count": null,
      "outputs": [
        {
          "output_type": "stream",
          "name": "stdout",
          "text": [
            "Jumlah transaksi gagal tiap tahun: \n",
            " Year\n",
            "2009    1015\n",
            "2010    9919\n",
            "2011    8560\n",
            "Name: Invoice, dtype: int64\n"
          ]
        },
        {
          "output_type": "display_data",
          "data": {
            "text/plain": [
              "<Figure size 432x288 with 1 Axes>"
            ],
            "image/png": "[encoded data removed]"
          },
          "metadata": {}
        }
      ]
    },
    {
      "cell_type": "markdown",
      "id": "158f85e3",
      "metadata": {
        "id": "158f85e3"
      },
      "source": [
        "### Cancellation Rate"
      ]
    },
    {
      "cell_type": "code",
      "execution_count": null,
      "id": "ca8edaa1",
      "metadata": {
        "id": "ca8edaa1",
        "colab": {
          "base_uri": "https://localhost:8080/"
        },
        "outputId": "96cd3cba-3a19-4513-bb58-e01c8bdbb4a7"
      },
      "outputs": [
        {
          "output_type": "stream",
          "name": "stdout",
          "text": [
            "Cancellation Rate pada tahun 2009 adalah 2.244185 %\n",
            "Cancellation Rate pada tahun 2010 adalah 1.897596 %\n",
            "Cancellation Rate pada tahun 2011 adalah 1.713957 %\n"
          ]
        }
      ],
      "source": [
        "data = ritel.groupby(\"Year\")[\"Invoice\"]\n",
        "for year,value in data:\n",
        "    orders = value\n",
        "    cancelled = value[value.str.contains(\"C\")]\n",
        "    print(\"Cancellation Rate pada tahun\",year,\"adalah\", round(cancelled.count()/orders.count(),8)*100,\"%\")"
      ]
    },
    {
      "cell_type": "markdown",
      "id": "8866bcd4",
      "metadata": {
        "id": "8866bcd4"
      },
      "source": [
        "### Interpretation"
      ]
    },
    {
      "cell_type": "markdown",
      "id": "09c84168",
      "metadata": {
        "id": "09c84168"
      },
      "source": [
        "Berdasarkan data jumlah transaksi berhasil dan transaksi dibatalkan yang ditampilkan pada grafik di atas, diperoleh bahwa jumlah transaksi naik secara signifikan pada tahun 2009 ke 2010 dan pada tahun 2010 ke 2011 jumlah transaksi sedikit menurun. Jumlah transaksi berhasil dan dibatalkan berdasarkan jumlah memang terlihat naik, namun berdasarkan persentase tiap tahunnya terlihat bahwa Cancellation Rate menurun dari tahun ke tahun."
      ]
    }
  ],
  "metadata": {
    "kernelspec": {
      "display_name": "Python 3 (ipykernel)",
      "language": "python",
      "name": "python3"
    },
    "language_info": {
      "codemirror_mode": {
        "name": "ipython",
        "version": 3
      },
      "file_extension": ".py",
      "mimetype": "text/x-python",
      "name": "python",
      "nbconvert_exporter": "python",
      "pygments_lexer": "ipython3",
      "version": "3.9.6"
    },
    "colab": {
      "name": "Muhammad Ikhwan Fathulloh - Rakamin Trial Class -  Data Science.ipynb",
      "provenance": [],
      "collapsed_sections": [],
      "include_colab_link": true
    }
  },
  "nbformat": 4,
  "nbformat_minor": 5
}